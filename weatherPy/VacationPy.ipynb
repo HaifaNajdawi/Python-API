{
 "cells": [
  {
   "cell_type": "markdown",
   "metadata": {},
   "source": [
    "# VacationPy\n",
    "----\n",
    "\n",
    "#### Note\n",
    "* Keep an eye on your API usage. Use https://developers.google.com/maps/reporting/gmp-reporting as reference for how to monitor your usage and billing.\n",
    "\n",
    "* Instructions have been included for each segment. You do not have to follow them exactly, but they are included to help you think through the steps."
   ]
  },
  {
   "cell_type": "code",
   "execution_count": 12,
   "metadata": {},
   "outputs": [],
   "source": [
    "# Dependencies and Setup\n",
    "import matplotlib.pyplot as plt\n",
    "import pandas as pd\n",
    "import numpy as np\n",
    "import requests\n",
    "import gmaps\n",
    "import os\n",
    "import json\n",
    "\n",
    "# Import API key\n",
    "from api_keys import g_key"
   ]
  },
  {
   "cell_type": "markdown",
   "metadata": {},
   "source": [
    "### Store Part I results into DataFrame\n",
    "* Load the csv exported in Part I to a DataFrame"
   ]
  },
  {
   "cell_type": "code",
   "execution_count": 2,
   "metadata": {},
   "outputs": [
    {
     "output_type": "execute_result",
     "data": {
      "text/plain": [
       "           City    Lat    Lng  Max temp (F)  Humidity  Cloudiness  Wind speed  \\\n",
       "0     Dhidhdhoo   6.88  73.10        81.680        77         100        3.03   \n",
       "1         Morón -34.65 -58.62        77.000        23           0        5.10   \n",
       "2  San Patricio  28.02 -97.52        64.400        48          40        7.20   \n",
       "3  Quatre Cocos -20.21  57.76        78.008        83          75        3.60   \n",
       "4   Clyde River  70.47 -68.59         3.200        91          90        5.10   \n",
       "\n",
       "  Country        Date  \n",
       "0      MV  1607286034  \n",
       "1      AR  1607286034  \n",
       "2      US  1607286034  \n",
       "3      MU  1607285786  \n",
       "4      CA  1607285786  "
      ],
      "text/html": "<div>\n<style scoped>\n    .dataframe tbody tr th:only-of-type {\n        vertical-align: middle;\n    }\n\n    .dataframe tbody tr th {\n        vertical-align: top;\n    }\n\n    .dataframe thead th {\n        text-align: right;\n    }\n</style>\n<table border=\"1\" class=\"dataframe\">\n  <thead>\n    <tr style=\"text-align: right;\">\n      <th></th>\n      <th>City</th>\n      <th>Lat</th>\n      <th>Lng</th>\n      <th>Max temp (F)</th>\n      <th>Humidity</th>\n      <th>Cloudiness</th>\n      <th>Wind speed</th>\n      <th>Country</th>\n      <th>Date</th>\n    </tr>\n  </thead>\n  <tbody>\n    <tr>\n      <th>0</th>\n      <td>Dhidhdhoo</td>\n      <td>6.88</td>\n      <td>73.10</td>\n      <td>81.680</td>\n      <td>77</td>\n      <td>100</td>\n      <td>3.03</td>\n      <td>MV</td>\n      <td>1607286034</td>\n    </tr>\n    <tr>\n      <th>1</th>\n      <td>Morón</td>\n      <td>-34.65</td>\n      <td>-58.62</td>\n      <td>77.000</td>\n      <td>23</td>\n      <td>0</td>\n      <td>5.10</td>\n      <td>AR</td>\n      <td>1607286034</td>\n    </tr>\n    <tr>\n      <th>2</th>\n      <td>San Patricio</td>\n      <td>28.02</td>\n      <td>-97.52</td>\n      <td>64.400</td>\n      <td>48</td>\n      <td>40</td>\n      <td>7.20</td>\n      <td>US</td>\n      <td>1607286034</td>\n    </tr>\n    <tr>\n      <th>3</th>\n      <td>Quatre Cocos</td>\n      <td>-20.21</td>\n      <td>57.76</td>\n      <td>78.008</td>\n      <td>83</td>\n      <td>75</td>\n      <td>3.60</td>\n      <td>MU</td>\n      <td>1607285786</td>\n    </tr>\n    <tr>\n      <th>4</th>\n      <td>Clyde River</td>\n      <td>70.47</td>\n      <td>-68.59</td>\n      <td>3.200</td>\n      <td>91</td>\n      <td>90</td>\n      <td>5.10</td>\n      <td>CA</td>\n      <td>1607285786</td>\n    </tr>\n  </tbody>\n</table>\n</div>"
     },
     "metadata": {},
     "execution_count": 2
    }
   ],
   "source": [
    "path=\"output_data/clean_city_data.csv\"\n",
    "clean_city_data=pd.read_csv(path)\n",
    "clean_city_data.head()\n"
   ]
  },
  {
   "cell_type": "markdown",
   "metadata": {},
   "source": [
    "### Humidity Heatmap\n",
    "* Configure gmaps.\n",
    "* Use the Lat and Lng as locations and Humidity as the weight.\n",
    "* Add Heatmap layer to map."
   ]
  },
  {
   "cell_type": "code",
   "execution_count": 3,
   "metadata": {},
   "outputs": [],
   "source": [
    "# Store latitude and longitude\n",
    "coordinates = clean_city_data[[\"Lat\",\"Lng\"]]\n",
    "\n",
    "humidity=clean_city_data[\"Humidity\"]\n"
   ]
  },
  {
   "cell_type": "code",
   "execution_count": 4,
   "metadata": {},
   "outputs": [
    {
     "output_type": "display_data",
     "data": {
      "text/plain": "Figure(layout=FigureLayout(height='420px'))",
      "application/vnd.jupyter.widget-view+json": {
       "version_major": 2,
       "version_minor": 0,
       "model_id": "493cf3ae4cc14e299a89996959f93720"
      }
     },
     "metadata": {}
    }
   ],
   "source": [
    "# Plot Heatmap\n",
    "fig = gmaps.figure()\n",
    "\n",
    "# Create heat layer\n",
    "heat_layer = gmaps.heatmap_layer(coordinates,weights=humidity,dissipating=False,max_intensity=100,point_radius=2)\n",
    "\n",
    "# Add layer\n",
    "fig.add_layer(heat_layer)\n",
    "\n",
    "# Display figure\n",
    "fig"
   ]
  },
  {
   "cell_type": "markdown",
   "metadata": {},
   "source": [
    "### Create new DataFrame fitting weather criteria\n",
    "* Narrow down the cities to fit weather conditions.\n",
    "* Drop any rows will null values."
   ]
  },
  {
   "cell_type": "code",
   "execution_count": 8,
   "metadata": {},
   "outputs": [
    {
     "output_type": "execute_result",
     "data": {
      "text/plain": [
       "                     City    Lat     Lng  Max temp (F)  Humidity  Cloudiness  \\\n",
       "0                   Morón -34.65  -58.62        77.000        23           0   \n",
       "1                   Young -32.68  -57.63        75.992        35           0   \n",
       "2  Concepción del Uruguay -32.48  -58.24        75.992        35           0   \n",
       "3                  Tandil -37.32  -59.13        78.998        23           0   \n",
       "4                 Gogrial   8.53   28.10        79.358        24           0   \n",
       "5           Santa Rosalía  27.32 -112.28        70.286        31           0   \n",
       "6                   Arlit  18.74    7.39        77.396        19           0   \n",
       "\n",
       "   Wind speed Country        Date  \n",
       "0        5.10      AR  1607286034  \n",
       "1        1.34      UY  1607286100  \n",
       "2        1.34      AR  1607286032  \n",
       "3        2.24      AR  1607286492  \n",
       "4        1.40      SS  1607286556  \n",
       "5        6.29      MX  1607286558  \n",
       "6        1.95      NE  1607286757  "
      ],
      "text/html": "<div>\n<style scoped>\n    .dataframe tbody tr th:only-of-type {\n        vertical-align: middle;\n    }\n\n    .dataframe tbody tr th {\n        vertical-align: top;\n    }\n\n    .dataframe thead th {\n        text-align: right;\n    }\n</style>\n<table border=\"1\" class=\"dataframe\">\n  <thead>\n    <tr style=\"text-align: right;\">\n      <th></th>\n      <th>City</th>\n      <th>Lat</th>\n      <th>Lng</th>\n      <th>Max temp (F)</th>\n      <th>Humidity</th>\n      <th>Cloudiness</th>\n      <th>Wind speed</th>\n      <th>Country</th>\n      <th>Date</th>\n    </tr>\n  </thead>\n  <tbody>\n    <tr>\n      <th>0</th>\n      <td>Morón</td>\n      <td>-34.65</td>\n      <td>-58.62</td>\n      <td>77.000</td>\n      <td>23</td>\n      <td>0</td>\n      <td>5.10</td>\n      <td>AR</td>\n      <td>1607286034</td>\n    </tr>\n    <tr>\n      <th>1</th>\n      <td>Young</td>\n      <td>-32.68</td>\n      <td>-57.63</td>\n      <td>75.992</td>\n      <td>35</td>\n      <td>0</td>\n      <td>1.34</td>\n      <td>UY</td>\n      <td>1607286100</td>\n    </tr>\n    <tr>\n      <th>2</th>\n      <td>Concepción del Uruguay</td>\n      <td>-32.48</td>\n      <td>-58.24</td>\n      <td>75.992</td>\n      <td>35</td>\n      <td>0</td>\n      <td>1.34</td>\n      <td>AR</td>\n      <td>1607286032</td>\n    </tr>\n    <tr>\n      <th>3</th>\n      <td>Tandil</td>\n      <td>-37.32</td>\n      <td>-59.13</td>\n      <td>78.998</td>\n      <td>23</td>\n      <td>0</td>\n      <td>2.24</td>\n      <td>AR</td>\n      <td>1607286492</td>\n    </tr>\n    <tr>\n      <th>4</th>\n      <td>Gogrial</td>\n      <td>8.53</td>\n      <td>28.10</td>\n      <td>79.358</td>\n      <td>24</td>\n      <td>0</td>\n      <td>1.40</td>\n      <td>SS</td>\n      <td>1607286556</td>\n    </tr>\n    <tr>\n      <th>5</th>\n      <td>Santa Rosalía</td>\n      <td>27.32</td>\n      <td>-112.28</td>\n      <td>70.286</td>\n      <td>31</td>\n      <td>0</td>\n      <td>6.29</td>\n      <td>MX</td>\n      <td>1607286558</td>\n    </tr>\n    <tr>\n      <th>6</th>\n      <td>Arlit</td>\n      <td>18.74</td>\n      <td>7.39</td>\n      <td>77.396</td>\n      <td>19</td>\n      <td>0</td>\n      <td>1.95</td>\n      <td>NE</td>\n      <td>1607286757</td>\n    </tr>\n  </tbody>\n</table>\n</div>"
     },
     "metadata": {},
     "execution_count": 8
    }
   ],
   "source": [
    "# put conditions to be ideal weather \n",
    "hotel_df=clean_city_data.loc[(clean_city_data[\"Max temp (F)\"] < 80) & (clean_city_data[\"Max temp (F)\"]>70) & (clean_city_data[\"Humidity\"] < 50) & (clean_city_data[\"Cloudiness\"] == 0)].reset_index().drop([\"index\"],axis=1)\n",
    "hotel_df"
   ]
  },
  {
   "cell_type": "markdown",
   "metadata": {},
   "source": [
    "### Hotel Map\n",
    "* Store into variable named `hotel_df`.\n",
    "* Add a \"Hotel Name\" column to the DataFrame.\n",
    "* Set parameters to search for hotels with 5000 meters.\n",
    "* Hit the Google Places API for each city's coordinates.\n",
    "* Store the first Hotel result into the DataFrame.\n",
    "* Plot markers on top of the heatmap."
   ]
  },
  {
   "cell_type": "code",
   "execution_count": 9,
   "metadata": {},
   "outputs": [
    {
     "output_type": "execute_result",
     "data": {
      "text/plain": [
       "                     City    Lat     Lng  Max temp (F)  Humidity  Cloudiness  \\\n",
       "0                   Morón -34.65  -58.62        77.000        23           0   \n",
       "1                   Young -32.68  -57.63        75.992        35           0   \n",
       "2  Concepción del Uruguay -32.48  -58.24        75.992        35           0   \n",
       "3                  Tandil -37.32  -59.13        78.998        23           0   \n",
       "4                 Gogrial   8.53   28.10        79.358        24           0   \n",
       "5           Santa Rosalía  27.32 -112.28        70.286        31           0   \n",
       "6                   Arlit  18.74    7.39        77.396        19           0   \n",
       "\n",
       "   Wind speed Country        Date Hotel Name  \n",
       "0        5.10      AR  1607286034             \n",
       "1        1.34      UY  1607286100             \n",
       "2        1.34      AR  1607286032             \n",
       "3        2.24      AR  1607286492             \n",
       "4        1.40      SS  1607286556             \n",
       "5        6.29      MX  1607286558             \n",
       "6        1.95      NE  1607286757             "
      ],
      "text/html": "<div>\n<style scoped>\n    .dataframe tbody tr th:only-of-type {\n        vertical-align: middle;\n    }\n\n    .dataframe tbody tr th {\n        vertical-align: top;\n    }\n\n    .dataframe thead th {\n        text-align: right;\n    }\n</style>\n<table border=\"1\" class=\"dataframe\">\n  <thead>\n    <tr style=\"text-align: right;\">\n      <th></th>\n      <th>City</th>\n      <th>Lat</th>\n      <th>Lng</th>\n      <th>Max temp (F)</th>\n      <th>Humidity</th>\n      <th>Cloudiness</th>\n      <th>Wind speed</th>\n      <th>Country</th>\n      <th>Date</th>\n      <th>Hotel Name</th>\n    </tr>\n  </thead>\n  <tbody>\n    <tr>\n      <th>0</th>\n      <td>Morón</td>\n      <td>-34.65</td>\n      <td>-58.62</td>\n      <td>77.000</td>\n      <td>23</td>\n      <td>0</td>\n      <td>5.10</td>\n      <td>AR</td>\n      <td>1607286034</td>\n      <td></td>\n    </tr>\n    <tr>\n      <th>1</th>\n      <td>Young</td>\n      <td>-32.68</td>\n      <td>-57.63</td>\n      <td>75.992</td>\n      <td>35</td>\n      <td>0</td>\n      <td>1.34</td>\n      <td>UY</td>\n      <td>1607286100</td>\n      <td></td>\n    </tr>\n    <tr>\n      <th>2</th>\n      <td>Concepción del Uruguay</td>\n      <td>-32.48</td>\n      <td>-58.24</td>\n      <td>75.992</td>\n      <td>35</td>\n      <td>0</td>\n      <td>1.34</td>\n      <td>AR</td>\n      <td>1607286032</td>\n      <td></td>\n    </tr>\n    <tr>\n      <th>3</th>\n      <td>Tandil</td>\n      <td>-37.32</td>\n      <td>-59.13</td>\n      <td>78.998</td>\n      <td>23</td>\n      <td>0</td>\n      <td>2.24</td>\n      <td>AR</td>\n      <td>1607286492</td>\n      <td></td>\n    </tr>\n    <tr>\n      <th>4</th>\n      <td>Gogrial</td>\n      <td>8.53</td>\n      <td>28.10</td>\n      <td>79.358</td>\n      <td>24</td>\n      <td>0</td>\n      <td>1.40</td>\n      <td>SS</td>\n      <td>1607286556</td>\n      <td></td>\n    </tr>\n    <tr>\n      <th>5</th>\n      <td>Santa Rosalía</td>\n      <td>27.32</td>\n      <td>-112.28</td>\n      <td>70.286</td>\n      <td>31</td>\n      <td>0</td>\n      <td>6.29</td>\n      <td>MX</td>\n      <td>1607286558</td>\n      <td></td>\n    </tr>\n    <tr>\n      <th>6</th>\n      <td>Arlit</td>\n      <td>18.74</td>\n      <td>7.39</td>\n      <td>77.396</td>\n      <td>19</td>\n      <td>0</td>\n      <td>1.95</td>\n      <td>NE</td>\n      <td>1607286757</td>\n      <td></td>\n    </tr>\n  </tbody>\n</table>\n</div>"
     },
     "metadata": {},
     "execution_count": 9
    }
   ],
   "source": [
    "# add new cloumn to the dataframe \n",
    "hotel_df[\"Hotel Name\"]=\"\"\n",
    "hotel_df"
   ]
  },
  {
   "cell_type": "code",
   "execution_count": null,
   "metadata": {},
   "outputs": [],
   "source": []
  },
  {
   "cell_type": "code",
   "execution_count": 81,
   "metadata": {},
   "outputs": [
    {
     "output_type": "execute_result",
     "data": {
      "text/plain": [
       "                     City    Lat     Lng  Max temp (F)  Humidity  Cloudiness  \\\n",
       "0                   Morón -34.65  -58.62        77.000        23           0   \n",
       "1                   Young -32.68  -57.63        75.992        35           0   \n",
       "2  Concepción del Uruguay -32.48  -58.24        75.992        35           0   \n",
       "3                  Tandil -37.32  -59.13        78.998        23           0   \n",
       "4                 Gogrial   8.53   28.10        79.358        24           0   \n",
       "5           Santa Rosalía  27.32 -112.28        70.286        31           0   \n",
       "6                   Arlit  18.74    7.39        77.396        19           0   \n",
       "\n",
       "   Wind speed Country        Date                           Hotel Name  \n",
       "0        5.10      AR  1607286034                         Devoto Hotel  \n",
       "1        1.34      UY  1607286100                          Hotel Young  \n",
       "2        1.34      AR  1607286032                    Hotel Park Center  \n",
       "3        2.24      AR  1607286492              T Design Hotel Boutique  \n",
       "4        1.40      SS  1607286556  Holiday Inn Pewaukee-Milwaukee West  \n",
       "5        6.29      MX  1607286558      Hotel Las Casitas Santa Rosalia  \n",
       "6        1.95      NE  1607286757                 Hôtel Telwa Bungalow  "
      ],
      "text/html": "<div>\n<style scoped>\n    .dataframe tbody tr th:only-of-type {\n        vertical-align: middle;\n    }\n\n    .dataframe tbody tr th {\n        vertical-align: top;\n    }\n\n    .dataframe thead th {\n        text-align: right;\n    }\n</style>\n<table border=\"1\" class=\"dataframe\">\n  <thead>\n    <tr style=\"text-align: right;\">\n      <th></th>\n      <th>City</th>\n      <th>Lat</th>\n      <th>Lng</th>\n      <th>Max temp (F)</th>\n      <th>Humidity</th>\n      <th>Cloudiness</th>\n      <th>Wind speed</th>\n      <th>Country</th>\n      <th>Date</th>\n      <th>Hotel Name</th>\n    </tr>\n  </thead>\n  <tbody>\n    <tr>\n      <th>0</th>\n      <td>Morón</td>\n      <td>-34.65</td>\n      <td>-58.62</td>\n      <td>77.000</td>\n      <td>23</td>\n      <td>0</td>\n      <td>5.10</td>\n      <td>AR</td>\n      <td>1607286034</td>\n      <td>Devoto Hotel</td>\n    </tr>\n    <tr>\n      <th>1</th>\n      <td>Young</td>\n      <td>-32.68</td>\n      <td>-57.63</td>\n      <td>75.992</td>\n      <td>35</td>\n      <td>0</td>\n      <td>1.34</td>\n      <td>UY</td>\n      <td>1607286100</td>\n      <td>Hotel Young</td>\n    </tr>\n    <tr>\n      <th>2</th>\n      <td>Concepción del Uruguay</td>\n      <td>-32.48</td>\n      <td>-58.24</td>\n      <td>75.992</td>\n      <td>35</td>\n      <td>0</td>\n      <td>1.34</td>\n      <td>AR</td>\n      <td>1607286032</td>\n      <td>Hotel Park Center</td>\n    </tr>\n    <tr>\n      <th>3</th>\n      <td>Tandil</td>\n      <td>-37.32</td>\n      <td>-59.13</td>\n      <td>78.998</td>\n      <td>23</td>\n      <td>0</td>\n      <td>2.24</td>\n      <td>AR</td>\n      <td>1607286492</td>\n      <td>T Design Hotel Boutique</td>\n    </tr>\n    <tr>\n      <th>4</th>\n      <td>Gogrial</td>\n      <td>8.53</td>\n      <td>28.10</td>\n      <td>79.358</td>\n      <td>24</td>\n      <td>0</td>\n      <td>1.40</td>\n      <td>SS</td>\n      <td>1607286556</td>\n      <td>Holiday Inn Pewaukee-Milwaukee West</td>\n    </tr>\n    <tr>\n      <th>5</th>\n      <td>Santa Rosalía</td>\n      <td>27.32</td>\n      <td>-112.28</td>\n      <td>70.286</td>\n      <td>31</td>\n      <td>0</td>\n      <td>6.29</td>\n      <td>MX</td>\n      <td>1607286558</td>\n      <td>Hotel Las Casitas Santa Rosalia</td>\n    </tr>\n    <tr>\n      <th>6</th>\n      <td>Arlit</td>\n      <td>18.74</td>\n      <td>7.39</td>\n      <td>77.396</td>\n      <td>19</td>\n      <td>0</td>\n      <td>1.95</td>\n      <td>NE</td>\n      <td>1607286757</td>\n      <td>Hôtel Telwa Bungalow</td>\n    </tr>\n  </tbody>\n</table>\n</div>"
     },
     "metadata": {},
     "execution_count": 81
    }
   ],
   "source": [
    "base_url= \"https://maps.googleapis.com/maps/api/place/textsearch/json\"\n",
    "radius =5000\n",
    "query= 'hotel'\n",
    "params = {\"radius\":radius,\"query\":query,\"key\":g_key}\n",
    "for index,row in hotel_df.iterrows():\n",
    "    lat =str(row[\"Lat\"])\n",
    "    lng=str(row[\"Lng\"])\n",
    "    location=\",\".join([lat,lng])\n",
    "    params[\"location\"]=location\n",
    "    response=requests.get(base_url,params=params).json()\n",
    "    result=response[\"results\"]\n",
    "    hotel_df.loc[index, 'Hotel Name'] = result[0]['name']\n",
    "    \n",
    "hotel_df"
   ]
  },
  {
   "cell_type": "code",
   "execution_count": 97,
   "metadata": {},
   "outputs": [
    {
     "output_type": "display_data",
     "data": {
      "text/plain": "Figure(layout=FigureLayout(height='420px'))",
      "application/vnd.jupyter.widget-view+json": {
       "version_major": 2,
       "version_minor": 0,
       "model_id": "23ced3d66fed4abc937e7c392021a261"
      }
     },
     "metadata": {}
    }
   ],
   "source": [
    "# Using the template add the hotel marks to the heatmap\n",
    "info_box_template = \"\"\"\n",
    "<dl>\n",
    "<dt>Name</dt><dd>{Hotel Name}</dd>\n",
    "<dt>City</dt><dd>{City}</dd>\n",
    "<dt>Country</dt><dd>{Country}</dd>\n",
    "</dl>\n",
    "\"\"\"\n",
    "hotel_name=hotel_df[\"Hotel Name\"].tolist()\n",
    "marker_locations=hotel_df[[\"Lat\",\"Lng\"]]\n",
    "fig = gmaps.figure()\n",
    "\n",
    "\n",
    "# Add marker layer ontop of heat map\n",
    "\n",
    "markers = gmaps.marker_layer(marker_locations,\n",
    "[info_box_template.format(**row) for index, row in hotel_df.iterrows()])\n",
    "heat_layer = gmaps.heatmap_layer(coordinates,weights=humidity,dissipating=False,max_intensity=100,point_radius=2)\n",
    "\n",
    "# Display figure\n",
    "fig.add_layer(markers)\n",
    "fig.add_layer(heat_layer)\n",
    "fig"
   ]
  },
  {
   "cell_type": "code",
   "execution_count": null,
   "metadata": {},
   "outputs": [],
   "source": []
  }
 ],
 "metadata": {
  "kernelspec": {
   "display_name": "pythonData2",
   "language": "python",
   "name": "pythondata2"
  },
  "language_info": {
   "codemirror_mode": {
    "name": "ipython",
    "version": 3
   },
   "file_extension": ".py",
   "mimetype": "text/x-python",
   "name": "python",
   "nbconvert_exporter": "python",
   "pygments_lexer": "ipython3",
   "version": "3.7.6-final"
  },
  "latex_envs": {
   "LaTeX_envs_menu_present": true,
   "autoclose": false,
   "autocomplete": true,
   "bibliofile": "biblio.bib",
   "cite_by": "apalike",
   "current_citInitial": 1,
   "eqLabelWithNumbers": true,
   "eqNumInitial": 1,
   "hotkeys": {
    "equation": "Ctrl-E",
    "itemize": "Ctrl-I"
   },
   "labels_anchors": false,
   "latex_user_defs": false,
   "report_style_numbering": false,
   "user_envs_cfg": false
  }
 },
 "nbformat": 4,
 "nbformat_minor": 4
}